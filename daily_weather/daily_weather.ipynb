{
 "cells": [
  {
   "cell_type": "code",
   "execution_count": 15,
   "id": "2538e4c6-2c36-4582-8eec-8f8970fd1986",
   "metadata": {},
   "outputs": [],
   "source": [
    "from pyspark.sql import SparkSession\n",
    "\n",
    "spark = SparkSession.builder.appName(\n",
    "\t'Read CSV File into DataFrame').getOrCreate()\n",
    "\n",
    "df = spark.read.csv('C:/Users/jorda/Documents/GitHub/SDSC-BigData/daily_weather/daily_weather.csv', sep=',',\n",
    "\t\t\t\t\t\tinferSchema=True, header=True)"
   ]
  },
  {
   "cell_type": "code",
   "execution_count": 16,
   "id": "90c5d95c-bb54-478b-b65d-9bb62ca7c7e7",
   "metadata": {},
   "outputs": [
    {
     "name": "stdout",
     "output_type": "stream",
     "text": [
      "+------+-----------------+------------------+----------------------+------------------+----------------------+------------------+---------------------+-----------------+---------------------+---------------------+\n",
      "|number| air_pressure_9am|      air_temp_9am|avg_wind_direction_9am|avg_wind_speed_9am|max_wind_direction_9am|max_wind_speed_9am|rain_accumulation_9am|rain_duration_9am|relative_humidity_9am|relative_humidity_3pm|\n",
      "+------+-----------------+------------------+----------------------+------------------+----------------------+------------------+---------------------+-----------------+---------------------+---------------------+\n",
      "|     0|918.0600000000087| 74.82200000000041|                 271.1| 2.080354199999768|    295.39999999999986| 2.863283199999908|                  0.0|              0.0|    42.42000000000046|   36.160000000000494|\n",
      "|     1|917.3476881177097| 71.40384263106537|    101.93517935618371|2.4430092157340217|    140.47154847112498|3.5333236016106238|                  0.0|              0.0|   24.328697291802207|     19.4265967985621|\n",
      "|     2|923.0400000000084|60.637999999998776|    51.000000000000036|17.067852199999727|      63.6999999999999|22.100967200000003|                  0.0|             20.0|    8.900000000000047|   14.460000000000045|\n",
      "|     3|920.5027511759195| 70.13889486830053|    198.83213271746368| 4.337363056162703|    211.20334124325618| 5.190045360219378|                  0.0|              0.0|   12.189101868764444|   12.742547353761848|\n",
      "|     4|921.1600000000036| 44.29400000000284|                 277.8|1.8566601999998955|    136.49999999999991| 2.863283199999954|    8.899999999998613|          14730.0|    92.41000000000044|    76.74000000000046|\n",
      "+------+-----------------+------------------+----------------------+------------------+----------------------+------------------+---------------------+-----------------+---------------------+---------------------+\n",
      "only showing top 5 rows\n",
      "\n"
     ]
    }
   ],
   "source": [
    "df.show(5)"
   ]
  },
  {
   "cell_type": "code",
   "execution_count": 17,
   "id": "1afb2576-7b06-48ac-9d3f-1a8752f6bb3b",
   "metadata": {},
   "outputs": [
    {
     "name": "stdout",
     "output_type": "stream",
     "text": [
      "root\n",
      " |-- number: integer (nullable = true)\n",
      " |-- air_pressure_9am: double (nullable = true)\n",
      " |-- air_temp_9am: double (nullable = true)\n",
      " |-- avg_wind_direction_9am: double (nullable = true)\n",
      " |-- avg_wind_speed_9am: double (nullable = true)\n",
      " |-- max_wind_direction_9am: double (nullable = true)\n",
      " |-- max_wind_speed_9am: double (nullable = true)\n",
      " |-- rain_accumulation_9am: double (nullable = true)\n",
      " |-- rain_duration_9am: double (nullable = true)\n",
      " |-- relative_humidity_9am: double (nullable = true)\n",
      " |-- relative_humidity_3pm: double (nullable = true)\n",
      "\n"
     ]
    }
   ],
   "source": [
    "df.printSchema()"
   ]
  },
  {
   "cell_type": "code",
   "execution_count": 18,
   "id": "48a56110-f0d2-4506-8dee-350f2d66e976",
   "metadata": {},
   "outputs": [
    {
     "name": "stdout",
     "output_type": "stream",
     "text": [
      "+-------+------------------+\n",
      "|summary|avg_wind_speed_9am|\n",
      "+-------+------------------+\n",
      "|  count|              1092|\n",
      "|   mean|  5.50828424225493|\n",
      "| stddev|4.5528134655317185|\n",
      "|    min|  0.69345139999974|\n",
      "|    max|23.554978199999763|\n",
      "+-------+------------------+\n",
      "\n"
     ]
    }
   ],
   "source": [
    "df.describe('avg_wind_speed_9am').show()"
   ]
  },
  {
   "cell_type": "code",
   "execution_count": 20,
   "id": "61f744c0-7160-4040-8811-3619e4676b22",
   "metadata": {},
   "outputs": [
    {
     "data": {
      "text/plain": [
       "1095"
      ]
     },
     "execution_count": 20,
     "metadata": {},
     "output_type": "execute_result"
    }
   ],
   "source": [
    "df.count()"
   ]
  },
  {
   "cell_type": "code",
   "execution_count": 19,
   "id": "ca1cf081-ab2d-46b6-99d2-4c44d81c1c99",
   "metadata": {},
   "outputs": [
    {
     "data": {
      "text/plain": [
       "1092"
      ]
     },
     "execution_count": 19,
     "metadata": {},
     "output_type": "execute_result"
    }
   ],
   "source": [
    "df.na.drop(subset=['air_pressure_9am']).count()"
   ]
  },
  {
   "cell_type": "code",
   "execution_count": 21,
   "id": "d16c7201-5d9d-4b8e-ad5d-856663ef3f17",
   "metadata": {},
   "outputs": [
    {
     "data": {
      "text/plain": [
       "0.8830741909793918"
      ]
     },
     "execution_count": 21,
     "metadata": {},
     "output_type": "execute_result"
    }
   ],
   "source": [
    "df.stat.corr('relative_humidity_9am', 'relative_humidity_3pm')"
   ]
  },
  {
   "cell_type": "code",
   "execution_count": 22,
   "id": "3d1cfbed-524e-416b-8778-d2e5b8d82dcd",
   "metadata": {},
   "outputs": [
    {
     "data": {
      "text/html": [
       "<div>\n",
       "<style scoped>\n",
       "    .dataframe tbody tr th:only-of-type {\n",
       "        vertical-align: middle;\n",
       "    }\n",
       "\n",
       "    .dataframe tbody tr th {\n",
       "        vertical-align: top;\n",
       "    }\n",
       "\n",
       "    .dataframe thead th {\n",
       "        text-align: right;\n",
       "    }\n",
       "</style>\n",
       "<table border=\"1\" class=\"dataframe\">\n",
       "  <thead>\n",
       "    <tr style=\"text-align: right;\">\n",
       "      <th></th>\n",
       "      <th>air_pressure_9am</th>\n",
       "      <th>air_temp_9am</th>\n",
       "      <th>avg_wind_direction_9am</th>\n",
       "      <th>avg_wind_speed_9am</th>\n",
       "      <th>max_wind_direction_9am</th>\n",
       "      <th>max_wind_speed_9am</th>\n",
       "      <th>rain_accumulation_9am</th>\n",
       "      <th>rain_duration_9am</th>\n",
       "      <th>relative_humidity_9am</th>\n",
       "      <th>relative_humidity_3pm</th>\n",
       "    </tr>\n",
       "    <tr>\n",
       "      <th>number</th>\n",
       "      <th></th>\n",
       "      <th></th>\n",
       "      <th></th>\n",
       "      <th></th>\n",
       "      <th></th>\n",
       "      <th></th>\n",
       "      <th></th>\n",
       "      <th></th>\n",
       "      <th></th>\n",
       "      <th></th>\n",
       "    </tr>\n",
       "  </thead>\n",
       "  <tbody>\n",
       "    <tr>\n",
       "      <th>0</th>\n",
       "      <td>918.060000</td>\n",
       "      <td>74.822000</td>\n",
       "      <td>271.100000</td>\n",
       "      <td>2.080354</td>\n",
       "      <td>295.400000</td>\n",
       "      <td>2.863283</td>\n",
       "      <td>0.0</td>\n",
       "      <td>0.0</td>\n",
       "      <td>42.420000</td>\n",
       "      <td>36.160000</td>\n",
       "    </tr>\n",
       "    <tr>\n",
       "      <th>1</th>\n",
       "      <td>917.347688</td>\n",
       "      <td>71.403843</td>\n",
       "      <td>101.935179</td>\n",
       "      <td>2.443009</td>\n",
       "      <td>140.471548</td>\n",
       "      <td>3.533324</td>\n",
       "      <td>0.0</td>\n",
       "      <td>0.0</td>\n",
       "      <td>24.328697</td>\n",
       "      <td>19.426597</td>\n",
       "    </tr>\n",
       "    <tr>\n",
       "      <th>2</th>\n",
       "      <td>923.040000</td>\n",
       "      <td>60.638000</td>\n",
       "      <td>51.000000</td>\n",
       "      <td>17.067852</td>\n",
       "      <td>63.700000</td>\n",
       "      <td>22.100967</td>\n",
       "      <td>0.0</td>\n",
       "      <td>20.0</td>\n",
       "      <td>8.900000</td>\n",
       "      <td>14.460000</td>\n",
       "    </tr>\n",
       "    <tr>\n",
       "      <th>3</th>\n",
       "      <td>920.502751</td>\n",
       "      <td>70.138895</td>\n",
       "      <td>198.832133</td>\n",
       "      <td>4.337363</td>\n",
       "      <td>211.203341</td>\n",
       "      <td>5.190045</td>\n",
       "      <td>0.0</td>\n",
       "      <td>0.0</td>\n",
       "      <td>12.189102</td>\n",
       "      <td>12.742547</td>\n",
       "    </tr>\n",
       "    <tr>\n",
       "      <th>4</th>\n",
       "      <td>921.160000</td>\n",
       "      <td>44.294000</td>\n",
       "      <td>277.800000</td>\n",
       "      <td>1.856660</td>\n",
       "      <td>136.500000</td>\n",
       "      <td>2.863283</td>\n",
       "      <td>8.9</td>\n",
       "      <td>14730.0</td>\n",
       "      <td>92.410000</td>\n",
       "      <td>76.740000</td>\n",
       "    </tr>\n",
       "  </tbody>\n",
       "</table>\n",
       "</div>"
      ],
      "text/plain": [
       "        air_pressure_9am  air_temp_9am  avg_wind_direction_9am  avg_wind_speed_9am  max_wind_direction_9am  max_wind_speed_9am  rain_accumulation_9am  rain_duration_9am  relative_humidity_9am  relative_humidity_3pm\n",
       "number                                                                                                                                                                                                                \n",
       "0             918.060000     74.822000              271.100000            2.080354              295.400000            2.863283                    0.0                0.0              42.420000              36.160000\n",
       "1             917.347688     71.403843              101.935179            2.443009              140.471548            3.533324                    0.0                0.0              24.328697              19.426597\n",
       "2             923.040000     60.638000               51.000000           17.067852               63.700000           22.100967                    0.0               20.0               8.900000              14.460000\n",
       "3             920.502751     70.138895              198.832133            4.337363              211.203341            5.190045                    0.0                0.0              12.189102              12.742547\n",
       "4             921.160000     44.294000              277.800000            1.856660              136.500000            2.863283                    8.9            14730.0              92.410000              76.740000"
      ]
     },
     "execution_count": 22,
     "metadata": {},
     "output_type": "execute_result"
    }
   ],
   "source": [
    "df.pandas_api(index_col='number').head()"
   ]
  },
  {
   "cell_type": "code",
   "execution_count": 23,
   "id": "4500c983-5fcf-4dad-b4b2-50d0e5c9d59c",
   "metadata": {},
   "outputs": [
    {
     "data": {
      "text/html": [
       "<div>\n",
       "<style scoped>\n",
       "    .dataframe tbody tr th:only-of-type {\n",
       "        vertical-align: middle;\n",
       "    }\n",
       "\n",
       "    .dataframe tbody tr th {\n",
       "        vertical-align: top;\n",
       "    }\n",
       "\n",
       "    .dataframe thead th {\n",
       "        text-align: right;\n",
       "    }\n",
       "</style>\n",
       "<table border=\"1\" class=\"dataframe\">\n",
       "  <thead>\n",
       "    <tr style=\"text-align: right;\">\n",
       "      <th></th>\n",
       "      <th>summary</th>\n",
       "      <th>number</th>\n",
       "      <th>air_pressure_9am</th>\n",
       "      <th>air_temp_9am</th>\n",
       "      <th>avg_wind_direction_9am</th>\n",
       "      <th>avg_wind_speed_9am</th>\n",
       "      <th>max_wind_direction_9am</th>\n",
       "      <th>max_wind_speed_9am</th>\n",
       "      <th>rain_accumulation_9am</th>\n",
       "      <th>rain_duration_9am</th>\n",
       "      <th>relative_humidity_9am</th>\n",
       "      <th>relative_humidity_3pm</th>\n",
       "    </tr>\n",
       "  </thead>\n",
       "  <tbody>\n",
       "    <tr>\n",
       "      <th>0</th>\n",
       "      <td>count</td>\n",
       "      <td>1095</td>\n",
       "      <td>1092</td>\n",
       "      <td>1090</td>\n",
       "      <td>1091</td>\n",
       "      <td>1092</td>\n",
       "      <td>1092</td>\n",
       "      <td>1091</td>\n",
       "      <td>1089</td>\n",
       "      <td>1092</td>\n",
       "      <td>1095</td>\n",
       "      <td>1095</td>\n",
       "    </tr>\n",
       "    <tr>\n",
       "      <th>1</th>\n",
       "      <td>mean</td>\n",
       "      <td>547.0</td>\n",
       "      <td>918.8825513138094</td>\n",
       "      <td>64.93300141287072</td>\n",
       "      <td>142.2355107005759</td>\n",
       "      <td>5.50828424225493</td>\n",
       "      <td>148.95351796516923</td>\n",
       "      <td>7.019513529175272</td>\n",
       "      <td>0.20307895225211126</td>\n",
       "      <td>294.1080522756142</td>\n",
       "      <td>34.24140205923536</td>\n",
       "      <td>35.34472714825898</td>\n",
       "    </tr>\n",
       "    <tr>\n",
       "      <th>2</th>\n",
       "      <td>stddev</td>\n",
       "      <td>316.24357700987383</td>\n",
       "      <td>3.184161180386833</td>\n",
       "      <td>11.175514003175877</td>\n",
       "      <td>69.13785928889189</td>\n",
       "      <td>4.5528134655317185</td>\n",
       "      <td>67.23801294602953</td>\n",
       "      <td>5.598209170780958</td>\n",
       "      <td>1.5939521253574893</td>\n",
       "      <td>1598.0787786601481</td>\n",
       "      <td>25.472066802250055</td>\n",
       "      <td>22.524079453587273</td>\n",
       "    </tr>\n",
       "    <tr>\n",
       "      <th>3</th>\n",
       "      <td>min</td>\n",
       "      <td>0</td>\n",
       "      <td>907.9900000000024</td>\n",
       "      <td>36.752000000000685</td>\n",
       "      <td>15.500000000000046</td>\n",
       "      <td>0.69345139999974</td>\n",
       "      <td>28.89999999999991</td>\n",
       "      <td>1.1855782000000479</td>\n",
       "      <td>0.0</td>\n",
       "      <td>0.0</td>\n",
       "      <td>6.090000000001012</td>\n",
       "      <td>5.3000000000006855</td>\n",
       "    </tr>\n",
       "    <tr>\n",
       "      <th>4</th>\n",
       "      <td>max</td>\n",
       "      <td>1094</td>\n",
       "      <td>929.3200000000012</td>\n",
       "      <td>98.90599999999992</td>\n",
       "      <td>343.4</td>\n",
       "      <td>23.554978199999763</td>\n",
       "      <td>312.19999999999993</td>\n",
       "      <td>29.84077959999996</td>\n",
       "      <td>24.01999999999907</td>\n",
       "      <td>17704.0</td>\n",
       "      <td>92.6200000000002</td>\n",
       "      <td>92.2500000000003</td>\n",
       "    </tr>\n",
       "  </tbody>\n",
       "</table>\n",
       "</div>"
      ],
      "text/plain": [
       "  summary              number   air_pressure_9am        air_temp_9am avg_wind_direction_9am  avg_wind_speed_9am max_wind_direction_9am  max_wind_speed_9am rain_accumulation_9am   rain_duration_9am relative_humidity_9am relative_humidity_3pm\n",
       "0   count                1095               1092                1090                   1091                1092                   1092                1091                  1089                1092                  1095                  1095\n",
       "1    mean               547.0  918.8825513138094   64.93300141287072      142.2355107005759    5.50828424225493     148.95351796516923   7.019513529175272   0.20307895225211126   294.1080522756142     34.24140205923536     35.34472714825898\n",
       "2  stddev  316.24357700987383  3.184161180386833  11.175514003175877      69.13785928889189  4.5528134655317185      67.23801294602953   5.598209170780958    1.5939521253574893  1598.0787786601481    25.472066802250055    22.524079453587273\n",
       "3     min                   0  907.9900000000024  36.752000000000685     15.500000000000046    0.69345139999974      28.89999999999991  1.1855782000000479                   0.0                 0.0     6.090000000001012    5.3000000000006855\n",
       "4     max                1094  929.3200000000012   98.90599999999992                  343.4  23.554978199999763     312.19999999999993   29.84077959999996     24.01999999999907             17704.0      92.6200000000002      92.2500000000003"
      ]
     },
     "execution_count": 23,
     "metadata": {},
     "output_type": "execute_result"
    }
   ],
   "source": [
    "df.describe().pandas_api()"
   ]
  },
  {
   "cell_type": "code",
   "execution_count": 24,
   "id": "0757f0ef-d4b7-465d-acd2-b0b19fadae98",
   "metadata": {},
   "outputs": [
    {
     "name": "stdout",
     "output_type": "stream",
     "text": [
      "+-------+------------------+\n",
      "|summary|      air_temp_9am|\n",
      "+-------+------------------+\n",
      "|  count|              1090|\n",
      "|   mean| 64.93300141287072|\n",
      "| stddev|11.175514003175877|\n",
      "|    min|36.752000000000685|\n",
      "|    max| 98.90599999999992|\n",
      "+-------+------------------+\n",
      "\n"
     ]
    }
   ],
   "source": [
    "df.describe('air_temp_9am').show()"
   ]
  },
  {
   "cell_type": "code",
   "execution_count": 25,
   "id": "68ff9291-8ac2-45ef-b532-5c2e734baf70",
   "metadata": {},
   "outputs": [],
   "source": [
    "removeAllDF = df.na.drop()"
   ]
  },
  {
   "cell_type": "code",
   "execution_count": 26,
   "id": "886065ea-fd23-4884-b419-cce92f0990c0",
   "metadata": {},
   "outputs": [
    {
     "name": "stdout",
     "output_type": "stream",
     "text": [
      "+-------+------------------+\n",
      "|summary|      air_temp_9am|\n",
      "+-------+------------------+\n",
      "|  count|              1064|\n",
      "|   mean| 65.02260949558733|\n",
      "| stddev|11.168033449415704|\n",
      "|    min|36.752000000000685|\n",
      "|    max| 98.90599999999992|\n",
      "+-------+------------------+\n",
      "\n"
     ]
    }
   ],
   "source": [
    "removeAllDF.describe('air_temp_9am').show()"
   ]
  },
  {
   "cell_type": "code",
   "execution_count": 27,
   "id": "2fc9b6cf-b3c1-45bd-b29e-6f85912b2b31",
   "metadata": {},
   "outputs": [
    {
     "data": {
      "text/plain": [
       "1064"
      ]
     },
     "execution_count": 27,
     "metadata": {},
     "output_type": "execute_result"
    }
   ],
   "source": [
    "removeAllDF.count()"
   ]
  },
  {
   "cell_type": "code",
   "execution_count": 28,
   "id": "44df38c1-f8cc-45c7-8db3-4e4e3ca457aa",
   "metadata": {},
   "outputs": [],
   "source": [
    "from pyspark.sql.functions import avg\n",
    "\n",
    "imputeDF = df"
   ]
  },
  {
   "cell_type": "code",
   "execution_count": 29,
   "id": "9b23550a-8039-4c05-8f2a-b769261784f8",
   "metadata": {},
   "outputs": [
    {
     "name": "stdout",
     "output_type": "stream",
     "text": [
      "number 545.0018796992481\n",
      "air_pressure_9am 918.9031798641051\n",
      "air_temp_9am 65.02260949558733\n",
      "avg_wind_direction_9am 142.30675564934037\n",
      "avg_wind_speed_9am 5.48579305071369\n",
      "max_wind_direction_9am 148.48042413321315\n",
      "max_wind_speed_9am 6.999713658875691\n",
      "rain_accumulation_9am 0.18202347650615522\n",
      "rain_duration_9am 266.3936973996037\n",
      "relative_humidity_9am 34.07743985327709\n",
      "relative_humidity_3pm 35.14838093290533\n"
     ]
    }
   ],
   "source": [
    "for x in imputeDF.columns:\n",
    "  meanValue = removeAllDF.agg(avg(x)).first()[0]\n",
    "  print(x, meanValue)\n",
    "  imputeDF = imputeDF.na.fill(meanValue, [x])"
   ]
  },
  {
   "cell_type": "code",
   "execution_count": 30,
   "id": "a2726a23-3bfd-4cc8-85d9-a02b97edad5d",
   "metadata": {},
   "outputs": [
    {
     "name": "stdout",
     "output_type": "stream",
     "text": [
      "+-------+------------------+\n",
      "|summary|      air_temp_9am|\n",
      "+-------+------------------+\n",
      "|  count|              1095|\n",
      "|   mean| 64.93341058219818|\n",
      "| stddev| 11.14994819992023|\n",
      "|    min|36.752000000000685|\n",
      "|    max| 98.90599999999992|\n",
      "+-------+------------------+\n",
      "\n"
     ]
    }
   ],
   "source": [
    "imputeDF.describe('air_temp_9am').show()"
   ]
  },
  {
   "cell_type": "code",
   "execution_count": null,
   "id": "65200b52-6cb3-4778-8e54-cecf40c22f2d",
   "metadata": {},
   "outputs": [],
   "source": []
  }
 ],
 "metadata": {
  "kernelspec": {
   "display_name": "Python 3 (ipykernel)",
   "language": "python",
   "name": "python3"
  },
  "language_info": {
   "codemirror_mode": {
    "name": "ipython",
    "version": 3
   },
   "file_extension": ".py",
   "mimetype": "text/x-python",
   "name": "python",
   "nbconvert_exporter": "python",
   "pygments_lexer": "ipython3",
   "version": "3.10.12"
  }
 },
 "nbformat": 4,
 "nbformat_minor": 5
}
